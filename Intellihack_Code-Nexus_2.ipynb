{
  "metadata": {
    "kernelspec": {
      "name": "python",
      "display_name": "Python (Pyodide)",
      "language": "python"
    },
    "language_info": {
      "codemirror_mode": {
        "name": "python",
        "version": 3
      },
      "file_extension": ".py",
      "mimetype": "text/x-python",
      "name": "python",
      "nbconvert_exporter": "python",
      "pygments_lexer": "ipython3",
      "version": "3.8"
    }
  },
  "nbformat_minor": 5,
  "nbformat": 4,
  "cells": [
    {
      "id": "aed3f109-044a-4b0f-9834-08590d2be7a4",
      "cell_type": "code",
      "source": "import pandas as pd\nimport numpy as np\nimport seaborn as sns\nimport matplotlib.pyplot as plt\nfrom sklearn.cluster import KMeans\nfrom sklearn.preprocessing import StandardScaler\nfrom sklearn.decomposition import PCA\nfrom sklearn.metrics import silhouette_score\n\n# Load the dataset\ndf = pd.read_csv('path_to_dataset.csv')\n\n# Inspect the first few rows of the data\ndf.head()",
      "metadata": {
        "trusted": true
      },
      "outputs": [],
      "execution_count": null
    },
    {
      "id": "d1fa8d7a-4796-4b12-b42d-6e1407d6f77d",
      "cell_type": "code",
      "source": "# Summary Statistics\ndf.describe()\n\n# Check for missing values\ndf.isnull().sum()\n\n# Visualize the distribution of each feature\nsns.pairplot(df)\n\n# Plot Correlation Matrix\nplt.figure(figsize=(10, 8))\nsns.heatmap(df.corr(), annot=True, cmap='coolwarm', fmt='.2f')",
      "metadata": {
        "trusted": true
      },
      "outputs": [],
      "execution_count": null
    },
    {
      "id": "0c064621-a7fc-4fa4-9710-ada3f4e48d9e",
      "cell_type": "code",
      "source": "# Standardizing the features\nscaler = StandardScaler()\ndf_scaled = scaler.fit_transform(df.drop(columns=['customer_id']))\n\n# Check the scaled data\ndf_scaled[:5]",
      "metadata": {
        "trusted": true
      },
      "outputs": [],
      "execution_count": null
    },
    {
      "id": "7de67e0c-c309-484d-994c-3d2035675968",
      "cell_type": "code",
      "source": "# Applying KMeans clustering\nkmeans = KMeans(n_clusters=3, random_state=42)\ndf['Cluster'] = kmeans.fit_predict(df_scaled)\n\n# Visualize the clusters in 2D using PCA\npca = PCA(n_components=2)\npca_components = pca.fit_transform(df_scaled)\ndf['PCA1'] = pca_components[:, 0]\ndf['PCA2'] = pca_components[:, 1]\n\n# Plotting the clusters in 2D space\nplt.figure(figsize=(10, 6))\nsns.scatterplot(x='PCA1', y='PCA2', hue='Cluster', data=df, palette='Set2', s=100)\nplt.title('Customer Segments Identified using K-Means')\nplt.show()",
      "metadata": {
        "trusted": true
      },
      "outputs": [],
      "execution_count": null
    },
    {
      "id": "69229891-953f-4c25-aa21-424a00c6086c",
      "cell_type": "code",
      "source": "# Silhouette Score to evaluate the clustering\nsil_score = silhouette_score(df_scaled, df['Cluster'])\nprint(f\"Silhouette Score: {sil_score}\")",
      "metadata": {
        "trusted": true
      },
      "outputs": [],
      "execution_count": null
    },
    {
      "id": "1330d05e-4439-49f0-90dc-5fc473428af9",
      "cell_type": "code",
      "source": "# Analyzing the clusters\ndf.groupby('Cluster').mean()\n\n# Visualize feature distribution across clusters\nsns.boxplot(x='Cluster', y='total_purchases', data=df)\nsns.boxplot(x='Cluster', y='avg_cart_value', data=df)\nsns.boxplot(x='Cluster', y='total_time_spent', data=df)\nsns.boxplot(x='Cluster', y='product_click', data=df)\nsns.boxplot(x='Cluster', y='discount_count', data=df)",
      "metadata": {
        "trusted": true
      },
      "outputs": [],
      "execution_count": null
    }
  ]
}